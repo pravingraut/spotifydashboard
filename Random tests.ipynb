{
 "cells": [
  {
   "cell_type": "code",
   "execution_count": 14,
   "id": "b7ce6755-4a91-4e16-bdc6-23b28fe45c31",
   "metadata": {},
   "outputs": [],
   "source": [
    "import numpy as np\n",
    "import pandas as pd\n",
    "import seaborn as sns\n",
    "import matplotlib.pyplot as plt\n",
    "import plotly.express as px\n",
    "import streamlit as st"
   ]
  },
  {
   "cell_type": "code",
   "execution_count": 9,
   "id": "b6724265-8a61-44ef-8d12-a93dfce32d15",
   "metadata": {},
   "outputs": [],
   "source": [
    "df = pd.read_csv(\"Cleaned_Dataset.csv\", index_col=\"release_date\")"
   ]
  },
  {
   "cell_type": "code",
   "execution_count": 11,
   "id": "26d07eef-e3ba-4285-b798-8f5793e5dd76",
   "metadata": {},
   "outputs": [
    {
     "data": {
      "text/html": [
       "<div>\n",
       "<style scoped>\n",
       "    .dataframe tbody tr th:only-of-type {\n",
       "        vertical-align: middle;\n",
       "    }\n",
       "\n",
       "    .dataframe tbody tr th {\n",
       "        vertical-align: top;\n",
       "    }\n",
       "\n",
       "    .dataframe thead th {\n",
       "        text-align: right;\n",
       "    }\n",
       "</style>\n",
       "<table border=\"1\" class=\"dataframe\">\n",
       "  <thead>\n",
       "    <tr style=\"text-align: right;\">\n",
       "      <th></th>\n",
       "      <th>name</th>\n",
       "      <th>artists</th>\n",
       "      <th>year</th>\n",
       "      <th>duration</th>\n",
       "      <th>explicit</th>\n",
       "      <th>popularity</th>\n",
       "      <th>danceability</th>\n",
       "      <th>energy</th>\n",
       "      <th>loudness</th>\n",
       "      <th>speechiness</th>\n",
       "      <th>acousticness</th>\n",
       "      <th>instrumentalness</th>\n",
       "      <th>liveness</th>\n",
       "      <th>valence</th>\n",
       "      <th>tempo</th>\n",
       "      <th>time_signature</th>\n",
       "      <th>key</th>\n",
       "      <th>mode</th>\n",
       "    </tr>\n",
       "    <tr>\n",
       "      <th>release_date</th>\n",
       "      <th></th>\n",
       "      <th></th>\n",
       "      <th></th>\n",
       "      <th></th>\n",
       "      <th></th>\n",
       "      <th></th>\n",
       "      <th></th>\n",
       "      <th></th>\n",
       "      <th></th>\n",
       "      <th></th>\n",
       "      <th></th>\n",
       "      <th></th>\n",
       "      <th></th>\n",
       "      <th></th>\n",
       "      <th></th>\n",
       "      <th></th>\n",
       "      <th></th>\n",
       "      <th></th>\n",
       "    </tr>\n",
       "  </thead>\n",
       "  <tbody>\n",
       "    <tr>\n",
       "      <th>1922-02-22</th>\n",
       "      <td>Carve</td>\n",
       "      <td>['Uli']</td>\n",
       "      <td>1922</td>\n",
       "      <td>127</td>\n",
       "      <td>0</td>\n",
       "      <td>6</td>\n",
       "      <td>0.645</td>\n",
       "      <td>0.4450</td>\n",
       "      <td>-13.338</td>\n",
       "      <td>0.4510</td>\n",
       "      <td>0.674</td>\n",
       "      <td>0.7440</td>\n",
       "      <td>0.151</td>\n",
       "      <td>0.127</td>\n",
       "      <td>104.851</td>\n",
       "      <td>3</td>\n",
       "      <td>0</td>\n",
       "      <td>1</td>\n",
       "    </tr>\n",
       "    <tr>\n",
       "      <th>1922-06-01</th>\n",
       "      <td>Capítulo 2.16 - Banquero Anarquista</td>\n",
       "      <td>['Fernando Pessoa']</td>\n",
       "      <td>1922</td>\n",
       "      <td>98</td>\n",
       "      <td>0</td>\n",
       "      <td>0</td>\n",
       "      <td>0.695</td>\n",
       "      <td>0.2630</td>\n",
       "      <td>-22.136</td>\n",
       "      <td>0.9570</td>\n",
       "      <td>0.797</td>\n",
       "      <td>0.0000</td>\n",
       "      <td>0.148</td>\n",
       "      <td>0.655</td>\n",
       "      <td>102.009</td>\n",
       "      <td>1</td>\n",
       "      <td>0</td>\n",
       "      <td>1</td>\n",
       "    </tr>\n",
       "    <tr>\n",
       "      <th>1922-03-21</th>\n",
       "      <td>Vivo para Quererte - Remasterizado</td>\n",
       "      <td>['Ignacio Corsini']</td>\n",
       "      <td>1922</td>\n",
       "      <td>182</td>\n",
       "      <td>0</td>\n",
       "      <td>0</td>\n",
       "      <td>0.434</td>\n",
       "      <td>0.1770</td>\n",
       "      <td>-21.180</td>\n",
       "      <td>0.0512</td>\n",
       "      <td>0.994</td>\n",
       "      <td>0.0218</td>\n",
       "      <td>0.212</td>\n",
       "      <td>0.457</td>\n",
       "      <td>130.418</td>\n",
       "      <td>5</td>\n",
       "      <td>1</td>\n",
       "      <td>1</td>\n",
       "    </tr>\n",
       "    <tr>\n",
       "      <th>1922-03-21</th>\n",
       "      <td>El Prisionero - Remasterizado</td>\n",
       "      <td>['Ignacio Corsini']</td>\n",
       "      <td>1922</td>\n",
       "      <td>177</td>\n",
       "      <td>0</td>\n",
       "      <td>0</td>\n",
       "      <td>0.321</td>\n",
       "      <td>0.0946</td>\n",
       "      <td>-27.961</td>\n",
       "      <td>0.0504</td>\n",
       "      <td>0.995</td>\n",
       "      <td>0.9180</td>\n",
       "      <td>0.104</td>\n",
       "      <td>0.397</td>\n",
       "      <td>169.980</td>\n",
       "      <td>3</td>\n",
       "      <td>7</td>\n",
       "      <td>1</td>\n",
       "    </tr>\n",
       "    <tr>\n",
       "      <th>1922-01-01</th>\n",
       "      <td>Lady of the Evening</td>\n",
       "      <td>['Dick Haymes']</td>\n",
       "      <td>1922</td>\n",
       "      <td>163</td>\n",
       "      <td>0</td>\n",
       "      <td>0</td>\n",
       "      <td>0.402</td>\n",
       "      <td>0.1580</td>\n",
       "      <td>-16.900</td>\n",
       "      <td>0.0390</td>\n",
       "      <td>0.989</td>\n",
       "      <td>0.1300</td>\n",
       "      <td>0.311</td>\n",
       "      <td>0.196</td>\n",
       "      <td>103.220</td>\n",
       "      <td>4</td>\n",
       "      <td>3</td>\n",
       "      <td>0</td>\n",
       "    </tr>\n",
       "  </tbody>\n",
       "</table>\n",
       "</div>"
      ],
      "text/plain": [
       "                                             name              artists  year  \\\n",
       "release_date                                                                   \n",
       "1922-02-22                                  Carve              ['Uli']  1922   \n",
       "1922-06-01    Capítulo 2.16 - Banquero Anarquista  ['Fernando Pessoa']  1922   \n",
       "1922-03-21     Vivo para Quererte - Remasterizado  ['Ignacio Corsini']  1922   \n",
       "1922-03-21          El Prisionero - Remasterizado  ['Ignacio Corsini']  1922   \n",
       "1922-01-01                    Lady of the Evening      ['Dick Haymes']  1922   \n",
       "\n",
       "              duration  explicit  popularity  danceability  energy  loudness  \\\n",
       "release_date                                                                   \n",
       "1922-02-22         127         0           6         0.645  0.4450   -13.338   \n",
       "1922-06-01          98         0           0         0.695  0.2630   -22.136   \n",
       "1922-03-21         182         0           0         0.434  0.1770   -21.180   \n",
       "1922-03-21         177         0           0         0.321  0.0946   -27.961   \n",
       "1922-01-01         163         0           0         0.402  0.1580   -16.900   \n",
       "\n",
       "              speechiness  acousticness  instrumentalness  liveness  valence  \\\n",
       "release_date                                                                   \n",
       "1922-02-22         0.4510         0.674            0.7440     0.151    0.127   \n",
       "1922-06-01         0.9570         0.797            0.0000     0.148    0.655   \n",
       "1922-03-21         0.0512         0.994            0.0218     0.212    0.457   \n",
       "1922-03-21         0.0504         0.995            0.9180     0.104    0.397   \n",
       "1922-01-01         0.0390         0.989            0.1300     0.311    0.196   \n",
       "\n",
       "                tempo  time_signature  key  mode  \n",
       "release_date                                      \n",
       "1922-02-22    104.851               3    0     1  \n",
       "1922-06-01    102.009               1    0     1  \n",
       "1922-03-21    130.418               5    1     1  \n",
       "1922-03-21    169.980               3    7     1  \n",
       "1922-01-01    103.220               4    3     0  "
      ]
     },
     "execution_count": 11,
     "metadata": {},
     "output_type": "execute_result"
    }
   ],
   "source": [
    "df.head()"
   ]
  },
  {
   "cell_type": "code",
   "execution_count": 21,
   "id": "e5ca6c0a-0a2b-4856-8087-9fc53ee7421b",
   "metadata": {},
   "outputs": [
    {
     "name": "stderr",
     "output_type": "stream",
     "text": [
      "2024-08-10 17:10:40.610 \n",
      "  \u001b[33m\u001b[1mWarning:\u001b[0m to view this Streamlit app on a browser, run it with the following\n",
      "  command:\n",
      "\n",
      "    streamlit run /opt/anaconda3/lib/python3.11/site-packages/ipykernel_launcher.py [ARGUMENTS]\n"
     ]
    },
    {
     "data": {
      "text/plain": [
       "DeltaGenerator()"
      ]
     },
     "execution_count": 21,
     "metadata": {},
     "output_type": "execute_result"
    }
   ],
   "source": [
    "st.set_page_config(page_title=\"Spotify Dashboard\",\n",
    "page_icon=\" :bar_chart:\",\n",
    "layout=\"wide\")\n",
    "\n",
    "st.dataframe(df)"
   ]
  },
  {
   "cell_type": "code",
   "execution_count": 25,
   "id": "e4354e73-8b10-42f6-901c-e41559f1f530",
   "metadata": {},
   "outputs": [
    {
     "ename": "SyntaxError",
     "evalue": "invalid syntax (675768690.py, line 1)",
     "output_type": "error",
     "traceback": [
      "\u001b[0;36m  Cell \u001b[0;32mIn[25], line 1\u001b[0;36m\u001b[0m\n\u001b[0;31m    streamlit run /opt/anaconda3/lib/python3.11/site-packages/ipykernel_launcher.py\u001b[0m\n\u001b[0m              ^\u001b[0m\n\u001b[0;31mSyntaxError\u001b[0m\u001b[0;31m:\u001b[0m invalid syntax\n"
     ]
    }
   ],
   "source": []
  },
  {
   "cell_type": "code",
   "execution_count": 18,
   "id": "97f65faa-535f-4888-9881-ce290aae469b",
   "metadata": {},
   "outputs": [
    {
     "data": {
      "text/plain": [
       "DeltaGenerator()"
      ]
     },
     "execution_count": 18,
     "metadata": {},
     "output_type": "execute_result"
    }
   ],
   "source": [
    "arr = np.random.normal(1, 1, size=100)\n",
    "fig, ax = plt.subplots()\n",
    "ax.hist(arr, bins=20)\n",
    "#ax.tick_params(labelsize = 40)\n",
    "st.pyplot(fig)"
   ]
  },
  {
   "cell_type": "code",
   "execution_count": 40,
   "id": "4cc344c7-8c7e-48e4-b05b-3fa0cdb76bcf",
   "metadata": {},
   "outputs": [
    {
     "data": {
      "image/png": "[encoded data removed]",
      "text/plain": [
       "<Figure size 640x480 with 1 Axes>"
      ]
     },
     "metadata": {},
     "output_type": "display_data"
    },
    {
     "data": {
      "image/png": "[encoded data removed]",
      "text/plain": [
       "<Figure size 640x480 with 1 Axes>"
      ]
     },
     "metadata": {},
     "output_type": "display_data"
    }
   ],
   "source": [
    "import matplotlib.pyplot as plt\n",
    "import numpy as np\n",
    "\n",
    "xpoints = np.array([1, 2, 6, 8])\n",
    "ypoints = np.array([3, 8, 1, 10])\n",
    "\n",
    "x = plt.plot(xpoints, ypoints)\n",
    "plt.show(x)\n",
    "\n",
    "y = plt.plot(ypoints, xpoints)\n",
    "plt.xlabel(\"Some\")\n",
    "plt.show(y)"
   ]
  },
  {
   "cell_type": "code",
   "execution_count": null,
   "id": "ad1b6bac-50d4-4f39-8258-399754644b6d",
   "metadata": {},
   "outputs": [],
   "source": [
    "ax = df.plot.box()\n",
    "\n",
    "That is \n",
    "name = df.plot.box()"
   ]
  },
  {
   "cell_type": "code",
   "execution_count": null,
   "id": "bb6a35fa-4799-4a06-a6ae-ab76e6e01e1d",
   "metadata": {},
   "outputs": [],
   "source": [
    "some = df_tracks.groupby(\"explicit\")\n",
    "cv = some.boxplot(column=\"popularity\")\n",
    "plt.show(cv)"
   ]
  }
 ],
 "metadata": {
  "kernelspec": {
   "display_name": "Python 3 (ipykernel)",
   "language": "python",
   "name": "python3"
  },
  "language_info": {
   "codemirror_mode": {
    "name": "ipython",
    "version": 3
   },
   "file_extension": ".py",
   "mimetype": "text/x-python",
   "name": "python",
   "nbconvert_exporter": "python",
   "pygments_lexer": "ipython3",
   "version": "3.11.7"
  }
 },
 "nbformat": 4,
 "nbformat_minor": 5
}
